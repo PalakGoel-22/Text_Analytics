{
 "cells": [
  {
   "cell_type": "code",
   "execution_count": 1,
   "id": "0010bce8",
   "metadata": {},
   "outputs": [],
   "source": [
    "import pandas as pd\n",
    "import os"
   ]
  },
  {
   "cell_type": "code",
   "execution_count": 4,
   "id": "5132f511",
   "metadata": {},
   "outputs": [],
   "source": [
    "DIR = r'C:\\Users\\Palak Goel\\Desktop\\text analytics\\data'\n",
    "DATA = {'TEXT': [],\n",
    "        'Sentiment': []}"
   ]
  },
  {
   "cell_type": "code",
   "execution_count": 7,
   "id": "82a1f36d",
   "metadata": {},
   "outputs": [
    {
     "name": "stdout",
     "output_type": "stream",
     "text": [
      "\n",
      "\n",
      "\n"
     ]
    }
   ],
   "source": [
    "for file in os.listdir(DIR):\n",
    "    file_path = os.path.join(DIR, file)\n",
    "    file_text = open(file_path, 'r').read()\n",
    "    text_list = file_text.split('\\n')\n",
    "    for line in text_list:\n",
    "        try:\n",
    "            text = line.split('\\t')[0]\n",
    "            sentiment = line.split('\\t')[1]\n",
    "            DATA['TEXT'].append(text)\n",
    "            DATA['Sentiment'].append(sentiment)\n",
    "        except IndexError:\n",
    "            print(line)"
   ]
  },
  {
   "cell_type": "code",
   "execution_count": 12,
   "id": "3f615766",
   "metadata": {},
   "outputs": [],
   "source": [
    "DATAFRAME = pd.DataFrame.from_dict(DATA)"
   ]
  },
  {
   "cell_type": "code",
   "execution_count": 13,
   "id": "ee1361d4",
   "metadata": {},
   "outputs": [],
   "source": [
    "DATAFRAME.to_csv('DATA.csv',\n",
    "                 index = False)"
   ]
  },
  {
   "cell_type": "code",
   "execution_count": null,
   "id": "ad6e4669",
   "metadata": {},
   "outputs": [],
   "source": []
  }
 ],
 "metadata": {
  "kernelspec": {
   "display_name": "Python 3 (ipykernel)",
   "language": "python",
   "name": "python3"
  },
  "language_info": {
   "codemirror_mode": {
    "name": "ipython",
    "version": 3
   },
   "file_extension": ".py",
   "mimetype": "text/x-python",
   "name": "python",
   "nbconvert_exporter": "python",
   "pygments_lexer": "ipython3",
   "version": "3.9.7"
  }
 },
 "nbformat": 4,
 "nbformat_minor": 5
}
